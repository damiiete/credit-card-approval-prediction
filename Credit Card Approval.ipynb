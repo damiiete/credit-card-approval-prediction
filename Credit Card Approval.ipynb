{
  "nbformat": 4,
  "nbformat_minor": 5,
  "metadata": {
    "kernelspec": {
      "display_name": "Python 3",
      "language": "python",
      "name": "python3"
    },
    "language_info": {
      "codemirror_mode": {
        "name": "ipython",
        "version": 3
      },
      "file_extension": ".py",
      "mimetype": "text/x-python",
      "name": "python",
      "nbconvert_exporter": "python",
      "pygments_lexer": "ipython3",
      "version": "3.8.8"
    },
    "colab": {
      "name": "Credit Card Approval.ipynb",
      "provenance": []
    }
  },
  "cells": [
    {
      "cell_type": "code",
      "metadata": {
        "id": "e3df6d39"
      },
      "source": [
        "# Import the necessary libraries\n",
        "import pandas as pd\n",
        "import numpy as np\n",
        "import matplotlib.pyplot as plt\n",
        "from sklearn.preprocessing import LabelEncoder\n"
      ],
      "id": "e3df6d39",
      "execution_count": 17,
      "outputs": []
    },
    {
      "cell_type": "code",
      "metadata": {
        "id": "LJLt5HD7okve",
        "outputId": "ab13ee19-c49b-4be7-86db-87b15d19b157",
        "colab": {
          "base_uri": "https://localhost:8080/"
        }
      },
      "source": [
        "!git clone https://github.com/Phunbie/credit-card-approval-prediction.git"
      ],
      "id": "LJLt5HD7okve",
      "execution_count": 20,
      "outputs": [
        {
          "output_type": "stream",
          "text": [
            "fatal: destination path 'credit-card-approval-prediction' already exists and is not an empty directory.\n"
          ],
          "name": "stdout"
        }
      ]
    },
    {
      "cell_type": "code",
      "metadata": {
        "id": "1d60c2cd"
      },
      "source": [
        "# Load in the dataset\n",
        "credit_df = pd.read_csv('/content/credit-card-approval-prediction/Data/application_record.csv')\n",
        "app_df  = pd.read_csv('/content/credit-card-approval-prediction/Data/credit_record.csv')"
      ],
      "id": "1d60c2cd",
      "execution_count": 19,
      "outputs": []
    },
    {
      "cell_type": "code",
      "metadata": {
        "id": "c2dc4e5f",
        "outputId": "259ad049-383a-40cf-c6d8-14a06502465a",
        "colab": {
          "base_uri": "https://localhost:8080/",
          "height": 272
        }
      },
      "source": [
        "credit_df.head()"
      ],
      "id": "c2dc4e5f",
      "execution_count": 21,
      "outputs": [
        {
          "output_type": "execute_result",
          "data": {
            "text/html": [
              "<div>\n",
              "<style scoped>\n",
              "    .dataframe tbody tr th:only-of-type {\n",
              "        vertical-align: middle;\n",
              "    }\n",
              "\n",
              "    .dataframe tbody tr th {\n",
              "        vertical-align: top;\n",
              "    }\n",
              "\n",
              "    .dataframe thead th {\n",
              "        text-align: right;\n",
              "    }\n",
              "</style>\n",
              "<table border=\"1\" class=\"dataframe\">\n",
              "  <thead>\n",
              "    <tr style=\"text-align: right;\">\n",
              "      <th></th>\n",
              "      <th>ID</th>\n",
              "      <th>CODE_GENDER</th>\n",
              "      <th>FLAG_OWN_CAR</th>\n",
              "      <th>FLAG_OWN_REALTY</th>\n",
              "      <th>CNT_CHILDREN</th>\n",
              "      <th>AMT_INCOME_TOTAL</th>\n",
              "      <th>NAME_INCOME_TYPE</th>\n",
              "      <th>NAME_EDUCATION_TYPE</th>\n",
              "      <th>NAME_FAMILY_STATUS</th>\n",
              "      <th>NAME_HOUSING_TYPE</th>\n",
              "      <th>DAYS_BIRTH</th>\n",
              "      <th>DAYS_EMPLOYED</th>\n",
              "      <th>FLAG_MOBIL</th>\n",
              "      <th>FLAG_WORK_PHONE</th>\n",
              "      <th>FLAG_PHONE</th>\n",
              "      <th>FLAG_EMAIL</th>\n",
              "      <th>OCCUPATION_TYPE</th>\n",
              "      <th>CNT_FAM_MEMBERS</th>\n",
              "    </tr>\n",
              "  </thead>\n",
              "  <tbody>\n",
              "    <tr>\n",
              "      <th>0</th>\n",
              "      <td>5008804</td>\n",
              "      <td>M</td>\n",
              "      <td>Y</td>\n",
              "      <td>Y</td>\n",
              "      <td>0</td>\n",
              "      <td>427500.0</td>\n",
              "      <td>Working</td>\n",
              "      <td>Higher education</td>\n",
              "      <td>Civil marriage</td>\n",
              "      <td>Rented apartment</td>\n",
              "      <td>-12005</td>\n",
              "      <td>-4542</td>\n",
              "      <td>1</td>\n",
              "      <td>1</td>\n",
              "      <td>0</td>\n",
              "      <td>0</td>\n",
              "      <td>NaN</td>\n",
              "      <td>2.0</td>\n",
              "    </tr>\n",
              "    <tr>\n",
              "      <th>1</th>\n",
              "      <td>5008805</td>\n",
              "      <td>M</td>\n",
              "      <td>Y</td>\n",
              "      <td>Y</td>\n",
              "      <td>0</td>\n",
              "      <td>427500.0</td>\n",
              "      <td>Working</td>\n",
              "      <td>Higher education</td>\n",
              "      <td>Civil marriage</td>\n",
              "      <td>Rented apartment</td>\n",
              "      <td>-12005</td>\n",
              "      <td>-4542</td>\n",
              "      <td>1</td>\n",
              "      <td>1</td>\n",
              "      <td>0</td>\n",
              "      <td>0</td>\n",
              "      <td>NaN</td>\n",
              "      <td>2.0</td>\n",
              "    </tr>\n",
              "    <tr>\n",
              "      <th>2</th>\n",
              "      <td>5008806</td>\n",
              "      <td>M</td>\n",
              "      <td>Y</td>\n",
              "      <td>Y</td>\n",
              "      <td>0</td>\n",
              "      <td>112500.0</td>\n",
              "      <td>Working</td>\n",
              "      <td>Secondary / secondary special</td>\n",
              "      <td>Married</td>\n",
              "      <td>House / apartment</td>\n",
              "      <td>-21474</td>\n",
              "      <td>-1134</td>\n",
              "      <td>1</td>\n",
              "      <td>0</td>\n",
              "      <td>0</td>\n",
              "      <td>0</td>\n",
              "      <td>Security staff</td>\n",
              "      <td>2.0</td>\n",
              "    </tr>\n",
              "    <tr>\n",
              "      <th>3</th>\n",
              "      <td>5008808</td>\n",
              "      <td>F</td>\n",
              "      <td>N</td>\n",
              "      <td>Y</td>\n",
              "      <td>0</td>\n",
              "      <td>270000.0</td>\n",
              "      <td>Commercial associate</td>\n",
              "      <td>Secondary / secondary special</td>\n",
              "      <td>Single / not married</td>\n",
              "      <td>House / apartment</td>\n",
              "      <td>-19110</td>\n",
              "      <td>-3051</td>\n",
              "      <td>1</td>\n",
              "      <td>0</td>\n",
              "      <td>1</td>\n",
              "      <td>1</td>\n",
              "      <td>Sales staff</td>\n",
              "      <td>1.0</td>\n",
              "    </tr>\n",
              "    <tr>\n",
              "      <th>4</th>\n",
              "      <td>5008809</td>\n",
              "      <td>F</td>\n",
              "      <td>N</td>\n",
              "      <td>Y</td>\n",
              "      <td>0</td>\n",
              "      <td>270000.0</td>\n",
              "      <td>Commercial associate</td>\n",
              "      <td>Secondary / secondary special</td>\n",
              "      <td>Single / not married</td>\n",
              "      <td>House / apartment</td>\n",
              "      <td>-19110</td>\n",
              "      <td>-3051</td>\n",
              "      <td>1</td>\n",
              "      <td>0</td>\n",
              "      <td>1</td>\n",
              "      <td>1</td>\n",
              "      <td>Sales staff</td>\n",
              "      <td>1.0</td>\n",
              "    </tr>\n",
              "  </tbody>\n",
              "</table>\n",
              "</div>"
            ],
            "text/plain": [
              "        ID CODE_GENDER  ... OCCUPATION_TYPE CNT_FAM_MEMBERS\n",
              "0  5008804           M  ...             NaN             2.0\n",
              "1  5008805           M  ...             NaN             2.0\n",
              "2  5008806           M  ...  Security staff             2.0\n",
              "3  5008808           F  ...     Sales staff             1.0\n",
              "4  5008809           F  ...     Sales staff             1.0\n",
              "\n",
              "[5 rows x 18 columns]"
            ]
          },
          "metadata": {},
          "execution_count": 21
        }
      ]
    },
    {
      "cell_type": "code",
      "metadata": {
        "id": "f840e3c7",
        "outputId": "17d8b5bc-7a68-43db-8424-847647baff82"
      },
      "source": [
        "app_df.head()"
      ],
      "id": "f840e3c7",
      "execution_count": null,
      "outputs": [
        {
          "data": {
            "text/html": [
              "<div>\n",
              "<style scoped>\n",
              "    .dataframe tbody tr th:only-of-type {\n",
              "        vertical-align: middle;\n",
              "    }\n",
              "\n",
              "    .dataframe tbody tr th {\n",
              "        vertical-align: top;\n",
              "    }\n",
              "\n",
              "    .dataframe thead th {\n",
              "        text-align: right;\n",
              "    }\n",
              "</style>\n",
              "<table border=\"1\" class=\"dataframe\">\n",
              "  <thead>\n",
              "    <tr style=\"text-align: right;\">\n",
              "      <th></th>\n",
              "      <th>ID</th>\n",
              "      <th>CODE_GENDER</th>\n",
              "      <th>FLAG_OWN_CAR</th>\n",
              "      <th>FLAG_OWN_REALTY</th>\n",
              "      <th>CNT_CHILDREN</th>\n",
              "      <th>AMT_INCOME_TOTAL</th>\n",
              "      <th>NAME_INCOME_TYPE</th>\n",
              "      <th>NAME_EDUCATION_TYPE</th>\n",
              "      <th>NAME_FAMILY_STATUS</th>\n",
              "      <th>NAME_HOUSING_TYPE</th>\n",
              "      <th>DAYS_BIRTH</th>\n",
              "      <th>DAYS_EMPLOYED</th>\n",
              "      <th>FLAG_MOBIL</th>\n",
              "      <th>FLAG_WORK_PHONE</th>\n",
              "      <th>FLAG_PHONE</th>\n",
              "      <th>FLAG_EMAIL</th>\n",
              "      <th>OCCUPATION_TYPE</th>\n",
              "      <th>CNT_FAM_MEMBERS</th>\n",
              "    </tr>\n",
              "  </thead>\n",
              "  <tbody>\n",
              "    <tr>\n",
              "      <th>0</th>\n",
              "      <td>5008804</td>\n",
              "      <td>M</td>\n",
              "      <td>Y</td>\n",
              "      <td>Y</td>\n",
              "      <td>0</td>\n",
              "      <td>427500.0</td>\n",
              "      <td>Working</td>\n",
              "      <td>Higher education</td>\n",
              "      <td>Civil marriage</td>\n",
              "      <td>Rented apartment</td>\n",
              "      <td>-12005</td>\n",
              "      <td>-4542</td>\n",
              "      <td>1</td>\n",
              "      <td>1</td>\n",
              "      <td>0</td>\n",
              "      <td>0</td>\n",
              "      <td>NaN</td>\n",
              "      <td>2.0</td>\n",
              "    </tr>\n",
              "    <tr>\n",
              "      <th>1</th>\n",
              "      <td>5008805</td>\n",
              "      <td>M</td>\n",
              "      <td>Y</td>\n",
              "      <td>Y</td>\n",
              "      <td>0</td>\n",
              "      <td>427500.0</td>\n",
              "      <td>Working</td>\n",
              "      <td>Higher education</td>\n",
              "      <td>Civil marriage</td>\n",
              "      <td>Rented apartment</td>\n",
              "      <td>-12005</td>\n",
              "      <td>-4542</td>\n",
              "      <td>1</td>\n",
              "      <td>1</td>\n",
              "      <td>0</td>\n",
              "      <td>0</td>\n",
              "      <td>NaN</td>\n",
              "      <td>2.0</td>\n",
              "    </tr>\n",
              "    <tr>\n",
              "      <th>2</th>\n",
              "      <td>5008806</td>\n",
              "      <td>M</td>\n",
              "      <td>Y</td>\n",
              "      <td>Y</td>\n",
              "      <td>0</td>\n",
              "      <td>112500.0</td>\n",
              "      <td>Working</td>\n",
              "      <td>Secondary / secondary special</td>\n",
              "      <td>Married</td>\n",
              "      <td>House / apartment</td>\n",
              "      <td>-21474</td>\n",
              "      <td>-1134</td>\n",
              "      <td>1</td>\n",
              "      <td>0</td>\n",
              "      <td>0</td>\n",
              "      <td>0</td>\n",
              "      <td>Security staff</td>\n",
              "      <td>2.0</td>\n",
              "    </tr>\n",
              "    <tr>\n",
              "      <th>3</th>\n",
              "      <td>5008808</td>\n",
              "      <td>F</td>\n",
              "      <td>N</td>\n",
              "      <td>Y</td>\n",
              "      <td>0</td>\n",
              "      <td>270000.0</td>\n",
              "      <td>Commercial associate</td>\n",
              "      <td>Secondary / secondary special</td>\n",
              "      <td>Single / not married</td>\n",
              "      <td>House / apartment</td>\n",
              "      <td>-19110</td>\n",
              "      <td>-3051</td>\n",
              "      <td>1</td>\n",
              "      <td>0</td>\n",
              "      <td>1</td>\n",
              "      <td>1</td>\n",
              "      <td>Sales staff</td>\n",
              "      <td>1.0</td>\n",
              "    </tr>\n",
              "    <tr>\n",
              "      <th>4</th>\n",
              "      <td>5008809</td>\n",
              "      <td>F</td>\n",
              "      <td>N</td>\n",
              "      <td>Y</td>\n",
              "      <td>0</td>\n",
              "      <td>270000.0</td>\n",
              "      <td>Commercial associate</td>\n",
              "      <td>Secondary / secondary special</td>\n",
              "      <td>Single / not married</td>\n",
              "      <td>House / apartment</td>\n",
              "      <td>-19110</td>\n",
              "      <td>-3051</td>\n",
              "      <td>1</td>\n",
              "      <td>0</td>\n",
              "      <td>1</td>\n",
              "      <td>1</td>\n",
              "      <td>Sales staff</td>\n",
              "      <td>1.0</td>\n",
              "    </tr>\n",
              "  </tbody>\n",
              "</table>\n",
              "</div>"
            ],
            "text/plain": [
              "        ID CODE_GENDER FLAG_OWN_CAR FLAG_OWN_REALTY  CNT_CHILDREN  \\\n",
              "0  5008804           M            Y               Y             0   \n",
              "1  5008805           M            Y               Y             0   \n",
              "2  5008806           M            Y               Y             0   \n",
              "3  5008808           F            N               Y             0   \n",
              "4  5008809           F            N               Y             0   \n",
              "\n",
              "   AMT_INCOME_TOTAL      NAME_INCOME_TYPE            NAME_EDUCATION_TYPE  \\\n",
              "0          427500.0               Working               Higher education   \n",
              "1          427500.0               Working               Higher education   \n",
              "2          112500.0               Working  Secondary / secondary special   \n",
              "3          270000.0  Commercial associate  Secondary / secondary special   \n",
              "4          270000.0  Commercial associate  Secondary / secondary special   \n",
              "\n",
              "     NAME_FAMILY_STATUS  NAME_HOUSING_TYPE  DAYS_BIRTH  DAYS_EMPLOYED  \\\n",
              "0        Civil marriage   Rented apartment      -12005          -4542   \n",
              "1        Civil marriage   Rented apartment      -12005          -4542   \n",
              "2               Married  House / apartment      -21474          -1134   \n",
              "3  Single / not married  House / apartment      -19110          -3051   \n",
              "4  Single / not married  House / apartment      -19110          -3051   \n",
              "\n",
              "   FLAG_MOBIL  FLAG_WORK_PHONE  FLAG_PHONE  FLAG_EMAIL OCCUPATION_TYPE  \\\n",
              "0           1                1           0           0             NaN   \n",
              "1           1                1           0           0             NaN   \n",
              "2           1                0           0           0  Security staff   \n",
              "3           1                0           1           1     Sales staff   \n",
              "4           1                0           1           1     Sales staff   \n",
              "\n",
              "   CNT_FAM_MEMBERS  \n",
              "0              2.0  \n",
              "1              2.0  \n",
              "2              2.0  \n",
              "3              1.0  \n",
              "4              1.0  "
            ]
          },
          "execution_count": 17,
          "metadata": {},
          "output_type": "execute_result"
        }
      ]
    },
    {
      "cell_type": "code",
      "metadata": {
        "id": "ad37f513",
        "outputId": "5d4156ab-c44e-4377-ae81-4f6bf2a99ea5"
      },
      "source": [
        "app_df.shape"
      ],
      "id": "ad37f513",
      "execution_count": null,
      "outputs": [
        {
          "data": {
            "text/plain": [
              "(438557, 18)"
            ]
          },
          "execution_count": 20,
          "metadata": {},
          "output_type": "execute_result"
        }
      ]
    },
    {
      "cell_type": "code",
      "metadata": {
        "scrolled": true,
        "id": "7fec35cc",
        "outputId": "6b71c14b-6971-41c8-b7c4-344f337671dc"
      },
      "source": [
        "app_df.info()"
      ],
      "id": "7fec35cc",
      "execution_count": null,
      "outputs": [
        {
          "name": "stdout",
          "output_type": "stream",
          "text": [
            "<class 'pandas.core.frame.DataFrame'>\n",
            "RangeIndex: 438557 entries, 0 to 438556\n",
            "Data columns (total 18 columns):\n",
            " #   Column               Non-Null Count   Dtype  \n",
            "---  ------               --------------   -----  \n",
            " 0   ID                   438557 non-null  int64  \n",
            " 1   CODE_GENDER          438557 non-null  object \n",
            " 2   FLAG_OWN_CAR         438557 non-null  object \n",
            " 3   FLAG_OWN_REALTY      438557 non-null  object \n",
            " 4   CNT_CHILDREN         438557 non-null  int64  \n",
            " 5   AMT_INCOME_TOTAL     438557 non-null  float64\n",
            " 6   NAME_INCOME_TYPE     438557 non-null  object \n",
            " 7   NAME_EDUCATION_TYPE  438557 non-null  object \n",
            " 8   NAME_FAMILY_STATUS   438557 non-null  object \n",
            " 9   NAME_HOUSING_TYPE    438557 non-null  object \n",
            " 10  DAYS_BIRTH           438557 non-null  int64  \n",
            " 11  DAYS_EMPLOYED        438557 non-null  int64  \n",
            " 12  FLAG_MOBIL           438557 non-null  int64  \n",
            " 13  FLAG_WORK_PHONE      438557 non-null  int64  \n",
            " 14  FLAG_PHONE           438557 non-null  int64  \n",
            " 15  FLAG_EMAIL           438557 non-null  int64  \n",
            " 16  OCCUPATION_TYPE      304354 non-null  object \n",
            " 17  CNT_FAM_MEMBERS      438557 non-null  float64\n",
            "dtypes: float64(2), int64(8), object(8)\n",
            "memory usage: 60.2+ MB\n"
          ]
        }
      ]
    },
    {
      "cell_type": "code",
      "metadata": {
        "id": "6826edc0",
        "outputId": "55687f22-027e-4686-cfb8-aaa4f494525c"
      },
      "source": [
        "credit_df.shape"
      ],
      "id": "6826edc0",
      "execution_count": null,
      "outputs": [
        {
          "data": {
            "text/plain": [
              "(1048575, 3)"
            ]
          },
          "execution_count": 22,
          "metadata": {},
          "output_type": "execute_result"
        }
      ]
    },
    {
      "cell_type": "code",
      "metadata": {
        "id": "ae7b99b1",
        "outputId": "f6bc9f01-12e7-4108-975d-57ca412e82c3"
      },
      "source": [
        "credit_df.info()"
      ],
      "id": "ae7b99b1",
      "execution_count": null,
      "outputs": [
        {
          "name": "stdout",
          "output_type": "stream",
          "text": [
            "<class 'pandas.core.frame.DataFrame'>\n",
            "RangeIndex: 1048575 entries, 0 to 1048574\n",
            "Data columns (total 3 columns):\n",
            " #   Column          Non-Null Count    Dtype \n",
            "---  ------          --------------    ----- \n",
            " 0   ID              1048575 non-null  int64 \n",
            " 1   MONTHS_BALANCE  1048575 non-null  int64 \n",
            " 2   STATUS          1048575 non-null  object\n",
            "dtypes: int64(2), object(1)\n",
            "memory usage: 24.0+ MB\n"
          ]
        }
      ]
    },
    {
      "cell_type": "code",
      "metadata": {
        "id": "09711160",
        "outputId": "c6bdb9f5-4dc9-4245-bcf8-544d1ccd58f9"
      },
      "source": [
        "app_df.describe()"
      ],
      "id": "09711160",
      "execution_count": null,
      "outputs": [
        {
          "data": {
            "text/html": [
              "<div>\n",
              "<style scoped>\n",
              "    .dataframe tbody tr th:only-of-type {\n",
              "        vertical-align: middle;\n",
              "    }\n",
              "\n",
              "    .dataframe tbody tr th {\n",
              "        vertical-align: top;\n",
              "    }\n",
              "\n",
              "    .dataframe thead th {\n",
              "        text-align: right;\n",
              "    }\n",
              "</style>\n",
              "<table border=\"1\" class=\"dataframe\">\n",
              "  <thead>\n",
              "    <tr style=\"text-align: right;\">\n",
              "      <th></th>\n",
              "      <th>ID</th>\n",
              "      <th>CNT_CHILDREN</th>\n",
              "      <th>AMT_INCOME_TOTAL</th>\n",
              "      <th>DAYS_BIRTH</th>\n",
              "      <th>DAYS_EMPLOYED</th>\n",
              "      <th>FLAG_MOBIL</th>\n",
              "      <th>FLAG_WORK_PHONE</th>\n",
              "      <th>FLAG_PHONE</th>\n",
              "      <th>FLAG_EMAIL</th>\n",
              "      <th>CNT_FAM_MEMBERS</th>\n",
              "    </tr>\n",
              "  </thead>\n",
              "  <tbody>\n",
              "    <tr>\n",
              "      <th>count</th>\n",
              "      <td>4.385570e+05</td>\n",
              "      <td>438557.000000</td>\n",
              "      <td>4.385570e+05</td>\n",
              "      <td>438557.000000</td>\n",
              "      <td>438557.000000</td>\n",
              "      <td>438557.0</td>\n",
              "      <td>438557.000000</td>\n",
              "      <td>438557.000000</td>\n",
              "      <td>438557.000000</td>\n",
              "      <td>438557.000000</td>\n",
              "    </tr>\n",
              "    <tr>\n",
              "      <th>mean</th>\n",
              "      <td>6.022176e+06</td>\n",
              "      <td>0.427390</td>\n",
              "      <td>1.875243e+05</td>\n",
              "      <td>-15997.904649</td>\n",
              "      <td>60563.675328</td>\n",
              "      <td>1.0</td>\n",
              "      <td>0.206133</td>\n",
              "      <td>0.287771</td>\n",
              "      <td>0.108207</td>\n",
              "      <td>2.194465</td>\n",
              "    </tr>\n",
              "    <tr>\n",
              "      <th>std</th>\n",
              "      <td>5.716370e+05</td>\n",
              "      <td>0.724882</td>\n",
              "      <td>1.100869e+05</td>\n",
              "      <td>4185.030007</td>\n",
              "      <td>138767.799647</td>\n",
              "      <td>0.0</td>\n",
              "      <td>0.404527</td>\n",
              "      <td>0.452724</td>\n",
              "      <td>0.310642</td>\n",
              "      <td>0.897207</td>\n",
              "    </tr>\n",
              "    <tr>\n",
              "      <th>min</th>\n",
              "      <td>5.008804e+06</td>\n",
              "      <td>0.000000</td>\n",
              "      <td>2.610000e+04</td>\n",
              "      <td>-25201.000000</td>\n",
              "      <td>-17531.000000</td>\n",
              "      <td>1.0</td>\n",
              "      <td>0.000000</td>\n",
              "      <td>0.000000</td>\n",
              "      <td>0.000000</td>\n",
              "      <td>1.000000</td>\n",
              "    </tr>\n",
              "    <tr>\n",
              "      <th>25%</th>\n",
              "      <td>5.609375e+06</td>\n",
              "      <td>0.000000</td>\n",
              "      <td>1.215000e+05</td>\n",
              "      <td>-19483.000000</td>\n",
              "      <td>-3103.000000</td>\n",
              "      <td>1.0</td>\n",
              "      <td>0.000000</td>\n",
              "      <td>0.000000</td>\n",
              "      <td>0.000000</td>\n",
              "      <td>2.000000</td>\n",
              "    </tr>\n",
              "    <tr>\n",
              "      <th>50%</th>\n",
              "      <td>6.047745e+06</td>\n",
              "      <td>0.000000</td>\n",
              "      <td>1.607805e+05</td>\n",
              "      <td>-15630.000000</td>\n",
              "      <td>-1467.000000</td>\n",
              "      <td>1.0</td>\n",
              "      <td>0.000000</td>\n",
              "      <td>0.000000</td>\n",
              "      <td>0.000000</td>\n",
              "      <td>2.000000</td>\n",
              "    </tr>\n",
              "    <tr>\n",
              "      <th>75%</th>\n",
              "      <td>6.456971e+06</td>\n",
              "      <td>1.000000</td>\n",
              "      <td>2.250000e+05</td>\n",
              "      <td>-12514.000000</td>\n",
              "      <td>-371.000000</td>\n",
              "      <td>1.0</td>\n",
              "      <td>0.000000</td>\n",
              "      <td>1.000000</td>\n",
              "      <td>0.000000</td>\n",
              "      <td>3.000000</td>\n",
              "    </tr>\n",
              "    <tr>\n",
              "      <th>max</th>\n",
              "      <td>7.999952e+06</td>\n",
              "      <td>19.000000</td>\n",
              "      <td>6.750000e+06</td>\n",
              "      <td>-7489.000000</td>\n",
              "      <td>365243.000000</td>\n",
              "      <td>1.0</td>\n",
              "      <td>1.000000</td>\n",
              "      <td>1.000000</td>\n",
              "      <td>1.000000</td>\n",
              "      <td>20.000000</td>\n",
              "    </tr>\n",
              "  </tbody>\n",
              "</table>\n",
              "</div>"
            ],
            "text/plain": [
              "                 ID   CNT_CHILDREN  AMT_INCOME_TOTAL     DAYS_BIRTH  \\\n",
              "count  4.385570e+05  438557.000000      4.385570e+05  438557.000000   \n",
              "mean   6.022176e+06       0.427390      1.875243e+05  -15997.904649   \n",
              "std    5.716370e+05       0.724882      1.100869e+05    4185.030007   \n",
              "min    5.008804e+06       0.000000      2.610000e+04  -25201.000000   \n",
              "25%    5.609375e+06       0.000000      1.215000e+05  -19483.000000   \n",
              "50%    6.047745e+06       0.000000      1.607805e+05  -15630.000000   \n",
              "75%    6.456971e+06       1.000000      2.250000e+05  -12514.000000   \n",
              "max    7.999952e+06      19.000000      6.750000e+06   -7489.000000   \n",
              "\n",
              "       DAYS_EMPLOYED  FLAG_MOBIL  FLAG_WORK_PHONE     FLAG_PHONE  \\\n",
              "count  438557.000000    438557.0    438557.000000  438557.000000   \n",
              "mean    60563.675328         1.0         0.206133       0.287771   \n",
              "std    138767.799647         0.0         0.404527       0.452724   \n",
              "min    -17531.000000         1.0         0.000000       0.000000   \n",
              "25%     -3103.000000         1.0         0.000000       0.000000   \n",
              "50%     -1467.000000         1.0         0.000000       0.000000   \n",
              "75%      -371.000000         1.0         0.000000       1.000000   \n",
              "max    365243.000000         1.0         1.000000       1.000000   \n",
              "\n",
              "          FLAG_EMAIL  CNT_FAM_MEMBERS  \n",
              "count  438557.000000    438557.000000  \n",
              "mean        0.108207         2.194465  \n",
              "std         0.310642         0.897207  \n",
              "min         0.000000         1.000000  \n",
              "25%         0.000000         2.000000  \n",
              "50%         0.000000         2.000000  \n",
              "75%         0.000000         3.000000  \n",
              "max         1.000000        20.000000  "
            ]
          },
          "execution_count": 24,
          "metadata": {},
          "output_type": "execute_result"
        }
      ]
    },
    {
      "cell_type": "code",
      "metadata": {
        "id": "fb1cae0a",
        "outputId": "cbbdcafa-cfeb-45f8-bd67-dc45981ba21d"
      },
      "source": [
        "# Checking for missing values\n",
        "app_df.isnull().sum()"
      ],
      "id": "fb1cae0a",
      "execution_count": null,
      "outputs": [
        {
          "data": {
            "text/plain": [
              "ID                          0\n",
              "CODE_GENDER                 0\n",
              "FLAG_OWN_CAR                0\n",
              "FLAG_OWN_REALTY             0\n",
              "CNT_CHILDREN                0\n",
              "AMT_INCOME_TOTAL            0\n",
              "NAME_INCOME_TYPE            0\n",
              "NAME_EDUCATION_TYPE         0\n",
              "NAME_FAMILY_STATUS          0\n",
              "NAME_HOUSING_TYPE           0\n",
              "DAYS_BIRTH                  0\n",
              "DAYS_EMPLOYED               0\n",
              "FLAG_MOBIL                  0\n",
              "FLAG_WORK_PHONE             0\n",
              "FLAG_PHONE                  0\n",
              "FLAG_EMAIL                  0\n",
              "OCCUPATION_TYPE        134203\n",
              "CNT_FAM_MEMBERS             0\n",
              "dtype: int64"
            ]
          },
          "execution_count": 25,
          "metadata": {},
          "output_type": "execute_result"
        }
      ]
    },
    {
      "cell_type": "code",
      "metadata": {
        "id": "06c0e2c3",
        "outputId": "4374984b-77d2-47ef-b1dc-7df14350d7e8"
      },
      "source": [
        "# Visualising missing values\n",
        "import missingno as msno\n",
        "\n",
        "msno.matrix(app_df)"
      ],
      "id": "06c0e2c3",
      "execution_count": null,
      "outputs": [
        {
          "data": {
            "text/plain": [
              "<AxesSubplot:>"
            ]
          },
          "execution_count": 29,
          "metadata": {},
          "output_type": "execute_result"
        },
        {
          "data": {
            "image/png": "[encoded data removed]",
            "text/plain": [
              "<Figure size 1800x720 with 2 Axes>"
            ]
          },
          "metadata": {
            "needs_background": "light"
          },
          "output_type": "display_data"
        }
      ]
    },
    {
      "cell_type": "code",
      "metadata": {
        "id": "6b70048e",
        "outputId": "98b860e8-aa00-4b70-e8ac-2e479e3fc547"
      },
      "source": [
        "# More accurate way to visualise missing values\n",
        "msno.bar(app_df)"
      ],
      "id": "6b70048e",
      "execution_count": null,
      "outputs": [
        {
          "data": {
            "text/plain": [
              "<AxesSubplot:>"
            ]
          },
          "execution_count": 31,
          "metadata": {},
          "output_type": "execute_result"
        },
        {
          "data": {
            "image/png": "[encoded data removed]",
            "text/plain": [
              "<Figure size 1800x720 with 3 Axes>"
            ]
          },
          "metadata": {
            "needs_background": "light"
          },
          "output_type": "display_data"
        }
      ]
    },
    {
      "cell_type": "code",
      "metadata": {
        "id": "e4a522cc"
      },
      "source": [
        "# Drop the column with missing values\n",
        "\n",
        "app_df = app_df.drop('OCCUPATION_TYPE', axis= 1)"
      ],
      "id": "e4a522cc",
      "execution_count": null,
      "outputs": []
    },
    {
      "cell_type": "code",
      "metadata": {
        "id": "49336a85",
        "outputId": "22f40c06-3e50-4517-d9da-d62ae62981cb"
      },
      "source": [
        "app_df.isna().sum()"
      ],
      "id": "49336a85",
      "execution_count": null,
      "outputs": [
        {
          "data": {
            "text/plain": [
              "ID                     0\n",
              "CODE_GENDER            0\n",
              "FLAG_OWN_CAR           0\n",
              "FLAG_OWN_REALTY        0\n",
              "CNT_CHILDREN           0\n",
              "AMT_INCOME_TOTAL       0\n",
              "NAME_INCOME_TYPE       0\n",
              "NAME_EDUCATION_TYPE    0\n",
              "NAME_FAMILY_STATUS     0\n",
              "NAME_HOUSING_TYPE      0\n",
              "DAYS_BIRTH             0\n",
              "DAYS_EMPLOYED          0\n",
              "FLAG_MOBIL             0\n",
              "FLAG_WORK_PHONE        0\n",
              "FLAG_PHONE             0\n",
              "FLAG_EMAIL             0\n",
              "CNT_FAM_MEMBERS        0\n",
              "dtype: int64"
            ]
          },
          "execution_count": 35,
          "metadata": {},
          "output_type": "execute_result"
        }
      ]
    },
    {
      "cell_type": "markdown",
      "metadata": {
        "id": "dda496c1"
      },
      "source": [
        "### From both dataset, we realise that the column 'ID' seems to exist in both but are of different values. We need to solve that mystery. Keep that in mind!"
      ],
      "id": "dda496c1"
    },
    {
      "cell_type": "code",
      "metadata": {
        "id": "14ccb70e",
        "outputId": "2ebdebd5-6ebe-4553-a5d9-362f2b54aa74"
      },
      "source": [
        "print(len(app_df['ID']));\n",
        "print(len(credit_df['ID']))"
      ],
      "id": "14ccb70e",
      "execution_count": null,
      "outputs": [
        {
          "name": "stdout",
          "output_type": "stream",
          "text": [
            "438557\n",
            "1048575\n"
          ]
        }
      ]
    },
    {
      "cell_type": "markdown",
      "metadata": {
        "id": "a135b2d9"
      },
      "source": [
        "### Notice the difference right?"
      ],
      "id": "a135b2d9"
    },
    {
      "cell_type": "code",
      "metadata": {
        "id": "a0e65ca5",
        "outputId": "d3db412f-652d-4234-c327-7d0a3f8d118b"
      },
      "source": [
        "# This gives us the number of unique values in the dataset\n",
        "len(app_df['ID'].unique())"
      ],
      "id": "a0e65ca5",
      "execution_count": null,
      "outputs": [
        {
          "data": {
            "text/plain": [
              "438510"
            ]
          },
          "execution_count": 45,
          "metadata": {},
          "output_type": "execute_result"
        }
      ]
    },
    {
      "cell_type": "code",
      "metadata": {
        "id": "e9f9971c",
        "outputId": "a81219db-7e3b-4c95-96ba-c459b7620273"
      },
      "source": [
        "# This shows the number of duplicate ID's that exist in the dataset\n",
        "len(app_df['ID']) - len(app_df['ID'].unique())"
      ],
      "id": "e9f9971c",
      "execution_count": null,
      "outputs": [
        {
          "data": {
            "text/plain": [
              "47"
            ]
          },
          "execution_count": 46,
          "metadata": {},
          "output_type": "execute_result"
        }
      ]
    },
    {
      "cell_type": "code",
      "metadata": {
        "id": "f7707eff"
      },
      "source": [
        "# Dropping duplicate entries from ID column to further clean the data\n",
        "# An ideal record should never have people with the same ID\n",
        "app_df = app_df.drop_duplicates('ID', keep='last')"
      ],
      "id": "f7707eff",
      "execution_count": null,
      "outputs": []
    },
    {
      "cell_type": "code",
      "metadata": {
        "id": "dbf15ae4",
        "outputId": "08799022-7537-46fb-c44c-428eba739853"
      },
      "source": [
        "# if you compare the initial loaded dataframe and the new one, you'd realise that it is short of 47 entries\n",
        "# it means our new datadrame is devoid of duplicate ID's\n",
        "app_df.shape"
      ],
      "id": "dbf15ae4",
      "execution_count": null,
      "outputs": [
        {
          "data": {
            "text/plain": [
              "(438510, 17)"
            ]
          },
          "execution_count": 51,
          "metadata": {},
          "output_type": "execute_result"
        }
      ]
    },
    {
      "cell_type": "code",
      "metadata": {
        "id": "8747b128"
      },
      "source": [
        "# # Checking Non-Numerical Columns\n",
        "# cat_columns = app_df.columns[(app_df.dtypes =='object').values].tolist()\n",
        "# cat_columns"
      ],
      "id": "8747b128",
      "execution_count": null,
      "outputs": []
    },
    {
      "cell_type": "markdown",
      "metadata": {
        "id": "9ba7f5b5"
      },
      "source": [
        "## Separate Object datatypes from Numerical datatypes"
      ],
      "id": "9ba7f5b5"
    },
    {
      "cell_type": "code",
      "metadata": {
        "id": "215eae4c",
        "outputId": "96369677-7213-4b7b-c385-7ec0ca00f54b"
      },
      "source": [
        "ot = pd.DataFrame(app_df.dtypes =='object').reset_index()\n",
        "object_type = ot[ot[0] == True]['index']\n",
        "object_type\n",
        "# object_dtype = app_df.dtypes[app_df.dtypes == 'object'].index"
      ],
      "id": "215eae4c",
      "execution_count": null,
      "outputs": [
        {
          "data": {
            "text/plain": [
              "1            CODE_GENDER\n",
              "2           FLAG_OWN_CAR\n",
              "3        FLAG_OWN_REALTY\n",
              "6       NAME_INCOME_TYPE\n",
              "7    NAME_EDUCATION_TYPE\n",
              "8     NAME_FAMILY_STATUS\n",
              "9      NAME_HOUSING_TYPE\n",
              "Name: index, dtype: object"
            ]
          },
          "execution_count": 59,
          "metadata": {},
          "output_type": "execute_result"
        }
      ]
    },
    {
      "cell_type": "markdown",
      "metadata": {
        "id": "8803d6d6"
      },
      "source": [
        "## Let us do more wrangling to the categorical datatypes 😎"
      ],
      "id": "8803d6d6"
    },
    {
      "cell_type": "code",
      "metadata": {
        "id": "b0616e5f",
        "outputId": "3c13b66d-3d1f-49e1-d0ef-67c671c54508"
      },
      "source": [
        "# we need to determine how to encode the categorical dataset\n",
        "# As a result, we need to inspect them all\n",
        "for i in app_df.columns[(app_df.dtypes =='object').values].tolist():\n",
        "    print(i,'\\n')\n",
        "    print(app_df[i].value_counts())\n",
        "    print('\\n')\n",
        "    \n"
      ],
      "id": "b0616e5f",
      "execution_count": null,
      "outputs": [
        {
          "name": "stdout",
          "output_type": "stream",
          "text": [
            "CODE_GENDER \n",
            "\n",
            "F    294412\n",
            "M    144098\n",
            "Name: CODE_GENDER, dtype: int64\n",
            "\n",
            "\n",
            "FLAG_OWN_CAR \n",
            "\n",
            "N    275428\n",
            "Y    163082\n",
            "Name: FLAG_OWN_CAR, dtype: int64\n",
            "\n",
            "\n",
            "FLAG_OWN_REALTY \n",
            "\n",
            "Y    304043\n",
            "N    134467\n",
            "Name: FLAG_OWN_REALTY, dtype: int64\n",
            "\n",
            "\n",
            "NAME_INCOME_TYPE \n",
            "\n",
            "Working                 226087\n",
            "Commercial associate    100739\n",
            "Pensioner                75483\n",
            "State servant            36184\n",
            "Student                     17\n",
            "Name: NAME_INCOME_TYPE, dtype: int64\n",
            "\n",
            "\n",
            "NAME_EDUCATION_TYPE \n",
            "\n",
            "Secondary / secondary special    301789\n",
            "Higher education                 117509\n",
            "Incomplete higher                 14849\n",
            "Lower secondary                    4051\n",
            "Academic degree                     312\n",
            "Name: NAME_EDUCATION_TYPE, dtype: int64\n",
            "\n",
            "\n",
            "NAME_FAMILY_STATUS \n",
            "\n",
            "Married                 299798\n",
            "Single / not married     55268\n",
            "Civil marriage           36524\n",
            "Separated                27249\n",
            "Widow                    19671\n",
            "Name: NAME_FAMILY_STATUS, dtype: int64\n",
            "\n",
            "\n",
            "NAME_HOUSING_TYPE \n",
            "\n",
            "House / apartment      393788\n",
            "With parents            19074\n",
            "Municipal apartment     14213\n",
            "Rented apartment         5974\n",
            "Office apartment         3922\n",
            "Co-op apartment          1539\n",
            "Name: NAME_HOUSING_TYPE, dtype: int64\n",
            "\n",
            "\n"
          ]
        }
      ]
    },
    {
      "cell_type": "code",
      "metadata": {
        "id": "536527e3"
      },
      "source": [
        "# #Converting all Non-Numerical Columns to Numerical\n",
        "# for col in cat_columns:\n",
        "#         globals()['LE_{}'.format(col)] = LabelEncoder()\n",
        "#         final_df[col] = globals()['LE_{}'.format(col)].fit_transform(app_df[col])\n",
        "# app_df.head()"
      ],
      "id": "536527e3",
      "execution_count": null,
      "outputs": []
    },
    {
      "cell_type": "code",
      "metadata": {
        "id": "fa8475b9"
      },
      "source": [
        "le = LabelEncoder()\n",
        "for x in app_df:\n",
        "    if app_df[x].dtypes=='object':\n",
        "        app_df[x] = le.fit_transform(app_df[x])\n",
        "# This transforms all the object/numerocal data columns into numerical data columns\n"
      ],
      "id": "fa8475b9",
      "execution_count": null,
      "outputs": []
    },
    {
      "cell_type": "code",
      "metadata": {
        "id": "9c82668c"
      },
      "source": [
        ""
      ],
      "id": "9c82668c",
      "execution_count": null,
      "outputs": []
    }
  ]
}